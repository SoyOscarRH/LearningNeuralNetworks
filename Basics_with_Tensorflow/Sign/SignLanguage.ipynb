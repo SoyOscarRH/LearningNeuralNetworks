{
 "cells": [
  {
   "cell_type": "markdown",
   "metadata": {},
   "source": [
    "# Sign Language\n",
    "\n",
    "The problem I chose was to predict, given a photograph of a hand doing something some symbol (letter) in sign language, be able to get the letter or symbol described.\n",
    "\n",
    "<br />\n",
    "<br />\n",
    "\n",
    "## The dataset / Business Understanding\n",
    "\n",
    "In my case, the dataset that most balanced clean data with a large amount of information was a fairly famous one, the MNIST Sign Language.\n",
    "\n",
    "The original MNIST image data set, you know the one we all know of the handwritten digits is a quite popular benchmark for machine learning methods, but researchers have renewed their efforts to update it and develop replacements directives that are more challenging for computer vision and original for real-world applications.\n",
    "\n",
    "<img src=\"./Report/Graphics/bnw.png\" width=\"60%\" />\n",
    "        \n",
    "The MNIST presented here follows the same CSV format with labels and pixel values in individual rows.\n",
    "\n",
    "The American Sign Language database of hand gestures represents a multi-class problem with 24 letter classes (excluding J and Z that require movement).\n",
    "\n",
    "That is why we are only going to use 25 classes (we could do 24, but since the missing class is 9 I thought more coherently leave them at 25).\n",
    "\n",
    "The dataset format is designed to closely match the classic MNIST. Each training and testing case represents a label (0-25) as a one-to-one map for each alphabetic letter A-Z (and there are no cases for 9 = J or 25 = Z due to gestural movements). The training data (27,455 cases) and the test data (7172 cases) are about half the size of the standard MNIST, but are otherwise similar with a tag header row, pixel1, pixel2 ... pixel784 representing a single 28x28 pixel image with scale values of grays between 0-255.\n",
    "\n",
    "The original data from the hand gesture image represented multiple users who they repeated the gesture on different backgrounds. The MNIST sign language data comes from a large extent of the small number (1704) of the color images included as not cropped around the region of interest in hand. To create new data, an ImageMagick-based image pipeline was used and included hand-only cropping, grayscale, resizing and then creating at least 50+ variations to increase the quantity.\n",
    "\n",
    "In my case I downloaded it from Kaggle and you can find it at the following link: https://www.kaggle.com/datamunge/sign-language-mnist\n",
    "\n",
    "<img src=\"./Report/Graphics/images.png\" width=\"60%\" />"
   ]
  },
  {
   "cell_type": "code",
   "execution_count": 46,
   "metadata": {},
   "outputs": [
    {
     "name": "stdout",
     "output_type": "stream",
     "text": [
      "Python 3.8.5\r\n"
     ]
    }
   ],
   "source": [
    "!python3 --version"
   ]
  },
  {
   "cell_type": "code",
   "execution_count": 47,
   "metadata": {
    "colab": {},
    "colab_type": "code",
    "id": "mznT7rS2G5HP"
   },
   "outputs": [],
   "source": [
    "import numpy as np\n",
    "import pandas as pd\n",
    "import matplotlib.pyplot as plt\n",
    "import seaborn as sns"
   ]
  },
  {
   "cell_type": "code",
   "execution_count": 48,
   "metadata": {
    "colab": {},
    "colab_type": "code",
    "id": "_gWp8Y7YG5HS"
   },
   "outputs": [],
   "source": [
    "def dataframe_to_data(raw):\n",
    "    labels = raw['label']\n",
    "    raw.drop('label', axis=1, inplace=True)\n",
    "\n",
    "    return raw.values, labels.values"
   ]
  },
  {
   "cell_type": "code",
   "execution_count": 49,
   "metadata": {
    "colab": {
     "base_uri": "https://localhost:8080/",
     "height": 67
    },
    "colab_type": "code",
    "id": "_aYreIH9G5HU",
    "outputId": "b295b363-e8e4-4999-9447-ca90f23f285b"
   },
   "outputs": [
    {
     "name": "stdout",
     "output_type": "stream",
     "text": [
      "data: 7172\n",
      "test: 3587\n",
      "validation: 3586\n"
     ]
    }
   ],
   "source": [
    "base_url = \"./dataset/\"\n",
    "\n",
    "data_url = base_url + \"sign_mnist_test.csv\"\n",
    "data_raw = pd.read_csv(data_url, sep=\",\")\n",
    "data, labels = dataframe_to_data(data_raw)\n",
    "print(\"data:\", len(data))\n",
    "\n",
    "test_url = base_url + \"sign_mnist_test.csv\"\n",
    "test_validation_data_raw = pd.read_csv(test_url, sep=\",\")\n",
    "\n",
    "n = len(test_validation_data_raw)\n",
    "test_data_raw       = test_validation_data_raw.loc[:n//2, :].copy()\n",
    "validation_data_raw = test_validation_data_raw.loc[n//2:, :].copy()\n",
    "\n",
    "test_data, labels_test = dataframe_to_data(test_data_raw)\n",
    "print(\"test:\", len(test_data))\n",
    "\n",
    "validation_data, labels_validation = dataframe_to_data(validation_data_raw)\n",
    "print(\"validation:\", len(validation_data))"
   ]
  },
  {
   "cell_type": "code",
   "execution_count": 50,
   "metadata": {
    "colab": {},
    "colab_type": "code",
    "id": "afkKJukuG5HW"
   },
   "outputs": [],
   "source": [
    "IMAGE_SIZE = 28"
   ]
  },
  {
   "cell_type": "code",
   "execution_count": 51,
   "metadata": {
    "colab": {
     "base_uri": "https://localhost:8080/",
     "height": 54
    },
    "colab_type": "code",
    "id": "4ed42FTFG5Ha",
    "outputId": "aa2d9393-90c5-449c-f1ab-0a5f41be7796"
   },
   "outputs": [
    {
     "name": "stdout",
     "output_type": "stream",
     "text": [
      "['a', 'b', 'c', 'd', 'e', 'f', 'g', 'h', 'i', 'j', 'k', 'l', 'm', 'n', 'o', 'p', 'q', 'r', 's', 't', 'u', 'v', 'w', 'x', 'y', 'z']\n"
     ]
    }
   ],
   "source": [
    "def num_to_letter(num: int) -> str:\n",
    "    start = ord('a')\n",
    "    return chr(num + start)\n",
    "\n",
    "examples = [num_to_letter(i) for i in range(26)]\n",
    "print(examples)"
   ]
  },
  {
   "cell_type": "code",
   "execution_count": 67,
   "metadata": {
    "colab": {
     "base_uri": "https://localhost:8080/",
     "height": 302,
     "referenced_widgets": [
      "03049101020341bba6beb9864b8db6d9",
      "4cff6a8419aa435b9e26cf3939349e6a",
      "5878498b643642c0b067a7768f0c9907",
      "79e27160988d41bb893cc73f697d5bd4",
      "e3f7c1c8ad8b41cd8a4f5fa65c14fe3e",
      "67069b103fdf436390f59fa411cba16b",
      "b0cd8a50ae0b4f98842d078e6428aee8"
     ]
    },
    "colab_type": "code",
    "id": "Y3C9xxRSG5Hd",
    "outputId": "22dd5575-3d9e-4c8e-f736-b47102d8a7f0"
   },
   "outputs": [
    {
     "data": {
      "application/vnd.jupyter.widget-view+json": {
       "model_id": "5776e54098a84c439ef3f0f28daec2b4",
       "version_major": 2,
       "version_minor": 0
      },
      "text/plain": [
       "interactive(children=(IntSlider(value=3586, description='sample', max=7172), Output()), _dom_classes=('widget-…"
      ]
     },
     "metadata": {},
     "output_type": "display_data"
    }
   ],
   "source": [
    "from ipywidgets import interact\n",
    "\n",
    "@interact(sample = (0, len(data)))\n",
    "def show_image_dataset(sample):\n",
    "    info, label = data[sample], labels[sample]\n",
    "    pixels = info.reshape(IMAGE_SIZE, IMAGE_SIZE)\n",
    "\n",
    "    _, ax = plt.subplots(figsize=(3.5, 3.5))\n",
    "    sns.heatmap(data=pixels, cmap=\"YlGnBu\", ax=ax)\n",
    "    plt.title(num_to_letter(label), fontsize=30, color=\"#00008b\")\n",
    "    \n",
    "    plt.show()"
   ]
  },
  {
   "cell_type": "markdown",
   "metadata": {},
   "source": [
    "<img src=\"./before.png\" width=\"60%\" />"
   ]
  },
  {
   "cell_type": "code",
   "execution_count": 53,
   "metadata": {
    "colab": {},
    "colab_type": "code",
    "id": "Y2OZ16OeG5Hg"
   },
   "outputs": [],
   "source": [
    "import torch\n",
    "import torch.nn as nn\n",
    "import torch.nn.functional as F\n",
    "import torch.optim as optim\n",
    "from torch.autograd import Variable"
   ]
  },
  {
   "cell_type": "code",
   "execution_count": 54,
   "metadata": {
    "colab": {},
    "colab_type": "code",
    "id": "sgg8YmcoG5Hi"
   },
   "outputs": [],
   "source": [
    "data = [pic.reshape(1, IMAGE_SIZE, IMAGE_SIZE) for pic in data]\n",
    "validation_data = [pic.reshape(1, IMAGE_SIZE, IMAGE_SIZE) for pic in validation_data]\n",
    "test_data = [pic.reshape(1, IMAGE_SIZE, IMAGE_SIZE) for pic in test_data]\n",
    "\n",
    "x                        = torch.FloatTensor(data)\n",
    "y                        = torch.LongTensor(labels.tolist())\n",
    "\n",
    "validation_data_formated = torch.FloatTensor(validation_data)\n",
    "validation_labels        = torch.LongTensor(labels_validation.tolist())\n",
    "\n",
    "test_data_formated       = torch.FloatTensor(test_data)\n",
    "test_labels              = torch.LongTensor(labels_test.tolist())"
   ]
  },
  {
   "cell_type": "code",
   "execution_count": 55,
   "metadata": {
    "colab": {},
    "colab_type": "code",
    "id": "mrYOPWtYG5Hm"
   },
   "outputs": [],
   "source": [
    "epochs = 20\n",
    "batch_size = 64\n",
    "learning_rate = 0.002"
   ]
  },
  {
   "cell_type": "code",
   "execution_count": 56,
   "metadata": {
    "colab": {},
    "colab_type": "code",
    "id": "4GdLkqGlG5Hp"
   },
   "outputs": [],
   "source": [
    "class Network(nn.Module):\n",
    "\n",
    "    def __init__(self):\n",
    "        super(Network, self).__init__()\n",
    "\n",
    "        # convolutional layer (sees 28x28x1 image tensor)\n",
    "        self.conv1    = nn.Conv2d(in_channels=1, out_channels=10, kernel_size=3)\n",
    "        self.pool1    = nn.MaxPool2d(2)\n",
    "        \n",
    "        # convolutional layer (sees 10x tensor)\n",
    "        self.conv2    = nn.Conv2d(in_channels=10, out_channels=20, kernel_size=3)\n",
    "        self.pool2    = nn.MaxPool2d(2)\n",
    "        \n",
    "        # convolutional layer (sees 20x tensor)\n",
    "        self.conv3    = nn.Conv2d(in_channels=20, out_channels=30, kernel_size=3) \n",
    "        self.dropout1 = nn.Dropout2d(0.4)\n",
    "        \n",
    "        self.fc3      = nn.Linear(30 * 3 * 3, 256) \n",
    "        self.fc4      = nn.Linear(256, 26)\n",
    "        \n",
    "        self.softmax  = nn.LogSoftmax(dim=1)\n",
    "    \n",
    "    def forward(self, x):\n",
    "        x = self.conv1(x)\n",
    "        x = F.relu(x)\n",
    "        x = self.pool1(x)\n",
    "        \n",
    "        x = self.conv2(x)\n",
    "        x = F.relu(x)\n",
    "        x = self.pool2(x)\n",
    "        \n",
    "        x = self.conv3(x)\n",
    "        x = F.relu(x)\n",
    "        x = self.dropout1(x)\n",
    "\n",
    "        x = x.view(-1, self.fc3.in_features) \n",
    "\n",
    "        x = F.relu(self.fc3(x))\n",
    "        x = F.relu(self.fc4(x))\n",
    "        \n",
    "        return self.softmax(x)\n",
    "    \n",
    "\n",
    "    def evaluate(self, x):\n",
    "      if torch.cuda.is_available(): x = x.cuda()\n",
    "      output = self(x)\n",
    "      return torch.max(output.data, 1)[1]  \n",
    "\n",
    "\n",
    "    def step_train(self, optimizer, loss_fn, x, y):\n",
    "        x = Variable(x)\n",
    "        y = Variable(y)\n",
    "        if torch.cuda.is_available(): x, y = x.cuda(), y.cuda()\n",
    "        \n",
    "        optimizer.zero_grad()\n",
    "        loss = loss_fn(self(x), y)\n",
    "        loss.backward()\n",
    "        optimizer.step()\n",
    "\n",
    "        return loss.item()\n",
    "\n",
    "          \n",
    "    def accuracy(self, predictions, labels) -> float:  \n",
    "        correct = 0\n",
    "        for prediction, label in zip(predictions, labels):\n",
    "            if prediction == label: correct += 1\n",
    "        \n",
    "        return correct / len(predictions)"
   ]
  },
  {
   "cell_type": "code",
   "execution_count": 57,
   "metadata": {
    "colab": {
     "base_uri": "https://localhost:8080/",
     "height": 202
    },
    "colab_type": "code",
    "id": "aSfgTZycG5Hs",
    "outputId": "4577f6bc-bf33-4bc0-a302-69d3f4f66e33"
   },
   "outputs": [
    {
     "name": "stdout",
     "output_type": "stream",
     "text": [
      "Network(\n",
      "  (conv1): Conv2d(1, 10, kernel_size=(3, 3), stride=(1, 1))\n",
      "  (pool1): MaxPool2d(kernel_size=2, stride=2, padding=0, dilation=1, ceil_mode=False)\n",
      "  (conv2): Conv2d(10, 20, kernel_size=(3, 3), stride=(1, 1))\n",
      "  (pool2): MaxPool2d(kernel_size=2, stride=2, padding=0, dilation=1, ceil_mode=False)\n",
      "  (conv3): Conv2d(20, 30, kernel_size=(3, 3), stride=(1, 1))\n",
      "  (dropout1): Dropout2d(p=0.4, inplace=False)\n",
      "  (fc3): Linear(in_features=270, out_features=256, bias=True)\n",
      "  (fc4): Linear(in_features=256, out_features=26, bias=True)\n",
      "  (softmax): LogSoftmax(dim=1)\n",
      ")\n"
     ]
    }
   ],
   "source": [
    "torch.manual_seed(0)\n",
    "np.random.seed(0)\n",
    "net = Network()\n",
    "if torch.cuda.is_available(): net = net.cuda()\n",
    "print(net)"
   ]
  },
  {
   "cell_type": "code",
   "execution_count": 58,
   "metadata": {
    "colab": {},
    "colab_type": "code",
    "id": "110an8amG5Hv"
   },
   "outputs": [],
   "source": [
    "optimizer = optim.SGD(net.parameters(), learning_rate, momentum=0.7)\n",
    "loss_fn = nn.CrossEntropyLoss()"
   ]
  },
  {
   "cell_type": "code",
   "execution_count": 59,
   "metadata": {
    "colab": {
     "base_uri": "https://localhost:8080/",
     "height": 1000
    },
    "colab_type": "code",
    "id": "4Gr9Srm-G5Hx",
    "outputId": "894c4a68-97e3-4172-9010-750fda108a3d"
   },
   "outputs": [
    {
     "name": "stdout",
     "output_type": "stream",
     "text": [
      "Epoch: 1 \tTraining Loss: 3.116358 \tValidation Loss: 2.724485\n",
      "Validation loss min: (inf --> 2.724485). \n",
      "Saving model\n",
      "\n",
      "Epoch: 2 \tTraining Loss: 2.513946 \tValidation Loss: 2.06187\n",
      "Validation loss min: (2.724485 --> 2.06187). \n",
      "Saving model\n",
      "\n",
      "Epoch: 3 \tTraining Loss: 1.983764 \tValidation Loss: 1.541374\n",
      "Validation loss min: (2.06187 --> 1.541374). \n",
      "Saving model\n",
      "\n",
      "Epoch: 4 \tTraining Loss: 1.587149 \tValidation Loss: 1.356085\n",
      "Validation loss min: (1.541374 --> 1.356085). \n",
      "Saving model\n",
      "\n",
      "Epoch: 5 \tTraining Loss: 1.245098 \tValidation Loss: 0.756767\n",
      "Validation loss min: (1.356085 --> 0.756767). \n",
      "Saving model\n",
      "\n",
      "Epoch: 6 \tTraining Loss: 0.935655 \tValidation Loss: 0.645384\n",
      "Validation loss min: (0.756767 --> 0.645384). \n",
      "Saving model\n",
      "\n",
      "Epoch: 7 \tTraining Loss: 0.746439 \tValidation Loss: 0.44535\n",
      "Validation loss min: (0.645384 --> 0.44535). \n",
      "Saving model\n",
      "\n",
      "Epoch: 8 \tTraining Loss: 0.596757 \tValidation Loss: 0.402942\n",
      "Validation loss min: (0.44535 --> 0.402942). \n",
      "Saving model\n",
      "\n",
      "Epoch: 9 \tTraining Loss: 0.541181 \tValidation Loss: 0.392309\n",
      "Validation loss min: (0.402942 --> 0.392309). \n",
      "Saving model\n",
      "\n",
      "Epoch: 10 \tTraining Loss: 0.496554 \tValidation Loss: 0.380999\n",
      "Validation loss min: (0.392309 --> 0.380999). \n",
      "Saving model\n",
      "\n",
      "Epoch: 11 \tTraining Loss: 0.456691 \tValidation Loss: 0.230792\n",
      "Validation loss min: (0.380999 --> 0.230792). \n",
      "Saving model\n",
      "\n",
      "Epoch: 12 \tTraining Loss: 0.315516 \tValidation Loss: 0.208281\n",
      "Validation loss min: (0.230792 --> 0.208281). \n",
      "Saving model\n",
      "\n",
      "Epoch: 13 \tTraining Loss: 0.276933 \tValidation Loss: 0.196282\n",
      "Validation loss min: (0.208281 --> 0.196282). \n",
      "Saving model\n",
      "\n",
      "Epoch: 14 \tTraining Loss: 0.264852 \tValidation Loss: 0.19807\n",
      "\n",
      "Epoch: 15 \tTraining Loss: 0.254163 \tValidation Loss: 0.193874\n",
      "Validation loss min: (0.196282 --> 0.193874). \n",
      "Saving model\n",
      "\n",
      "Epoch: 16 \tTraining Loss: 0.242243 \tValidation Loss: 0.193936\n",
      "\n",
      "Epoch: 17 \tTraining Loss: 0.237994 \tValidation Loss: 0.193466\n",
      "Validation loss min: (0.193874 --> 0.193466). \n",
      "Saving model\n",
      "\n",
      "Epoch: 18 \tTraining Loss: 0.229174 \tValidation Loss: 0.193056\n",
      "Validation loss min: (0.193466 --> 0.193056). \n",
      "Saving model\n",
      "\n",
      "Epoch: 19 \tTraining Loss: 0.226811 \tValidation Loss: 0.193047\n",
      "Validation loss min: (0.193056 --> 0.193047). \n",
      "Saving model\n",
      "\n",
      "Epoch: 20 \tTraining Loss: 0.228204 \tValidation Loss: 0.193132\n",
      "\n"
     ]
    }
   ],
   "source": [
    "from statistics import mean \n",
    "\n",
    "valid_loss_min = np.Inf\n",
    "train_losses, valid_losses = [], [] \n",
    "for epoch in range(epochs):\n",
    "    # train the model\n",
    "    net.train()\n",
    "    train_loss = []\n",
    "    for i in range(0, x.shape[0], batch_size):\n",
    "        loss = net.step_train(optimizer, loss_fn, x[i : i + batch_size], y[i : i + batch_size])\n",
    "        train_loss.append(loss)\n",
    "\n",
    "    train_loss = mean(train_loss)    \n",
    "    train_losses.append(train_loss)\n",
    "\n",
    "    # validate the model\n",
    "    net.eval()\n",
    "    valid_loss = net.step_train(optimizer, loss_fn, validation_data_formated, validation_labels)\n",
    "    valid_losses.append(valid_loss)\n",
    "\n",
    "    print(f'Epoch: {epoch + 1} \\t', end=\"\")        \n",
    "    print(f'Training Loss: {round(train_loss, 6)} \\t', end=\"\")  \n",
    "    print(f'Validation Loss: {round(valid_loss, 6)}')\n",
    "\n",
    "    # save model if validation loss has decreased\n",
    "    if valid_loss <= valid_loss_min:\n",
    "        before, after = round(valid_loss_min, 6), round(valid_loss, 6)\n",
    "        print(f'Validation loss min: ({before} --> {after}). \\nSaving model')\n",
    "\n",
    "        torch.save(net.state_dict(), 'best_model.pt')\n",
    "        valid_loss_min = valid_loss\n",
    "\n",
    "    print()"
   ]
  },
  {
   "cell_type": "code",
   "execution_count": 60,
   "metadata": {
    "colab": {
     "base_uri": "https://localhost:8080/",
     "height": 34
    },
    "colab_type": "code",
    "id": "vKbw62q-G5H0",
    "outputId": "492d70e2-7b73-4dde-e974-abd507782889"
   },
   "outputs": [
    {
     "data": {
      "text/plain": [
       "<All keys matched successfully>"
      ]
     },
     "execution_count": 60,
     "metadata": {},
     "output_type": "execute_result"
    }
   ],
   "source": [
    "net.load_state_dict(torch.load('best_model.pt'))"
   ]
  },
  {
   "cell_type": "code",
   "execution_count": 61,
   "metadata": {
    "colab": {
     "base_uri": "https://localhost:8080/",
     "height": 516
    },
    "colab_type": "code",
    "id": "BLEesF99G5H2",
    "outputId": "373acb94-45a5-41dc-aeff-c8bdc5505fe9"
   },
   "outputs": [
    {
     "data": {
      "text/plain": [
       "Text(0.5, 1.0, 'Losses')"
      ]
     },
     "execution_count": 61,
     "metadata": {},
     "output_type": "execute_result"
    },
    {
     "data": {
      "image/png": "[encoded data removed]",
      "text/plain": [
       "<Figure size 720x576 with 1 Axes>"
      ]
     },
     "metadata": {
      "needs_background": "light"
     },
     "output_type": "display_data"
    }
   ],
   "source": [
    "%matplotlib inline\n",
    "\n",
    "plt.figure(figsize=(10,8))\n",
    "plt.plot(train_losses, label=\"train_losses\")\n",
    "plt.plot(valid_losses, label=\"valid_losses\")\n",
    "plt.legend()\n",
    "plt.title(\"Losses\")"
   ]
  },
  {
   "cell_type": "code",
   "execution_count": 62,
   "metadata": {
    "colab": {
     "base_uri": "https://localhost:8080/",
     "height": 202
    },
    "colab_type": "code",
    "id": "z3mzeBACG5H4",
    "outputId": "a7d97908-27b7-45f6-bf30-44e9aaa40439"
   },
   "outputs": [
    {
     "data": {
      "text/plain": [
       "Network(\n",
       "  (conv1): Conv2d(1, 10, kernel_size=(3, 3), stride=(1, 1))\n",
       "  (pool1): MaxPool2d(kernel_size=2, stride=2, padding=0, dilation=1, ceil_mode=False)\n",
       "  (conv2): Conv2d(10, 20, kernel_size=(3, 3), stride=(1, 1))\n",
       "  (pool2): MaxPool2d(kernel_size=2, stride=2, padding=0, dilation=1, ceil_mode=False)\n",
       "  (conv3): Conv2d(20, 30, kernel_size=(3, 3), stride=(1, 1))\n",
       "  (dropout1): Dropout2d(p=0.4, inplace=False)\n",
       "  (fc3): Linear(in_features=270, out_features=256, bias=True)\n",
       "  (fc4): Linear(in_features=256, out_features=26, bias=True)\n",
       "  (softmax): LogSoftmax(dim=1)\n",
       ")"
      ]
     },
     "execution_count": 62,
     "metadata": {},
     "output_type": "execute_result"
    }
   ],
   "source": [
    "net.eval()"
   ]
  },
  {
   "cell_type": "code",
   "execution_count": 66,
   "metadata": {
    "colab": {
     "base_uri": "https://localhost:8080/",
     "height": 316,
     "referenced_widgets": [
      "072237393b8c4f39b59302e06cfb6956",
      "799c7008b8d44f418d13503ad592c4e3",
      "cb75ca694b3b4a679ed5fa3c64db1766",
      "6d73933409c64161865be31a485af66d",
      "5017053b634741a4bb877db9d0bd83b9",
      "6633f97b8df34865b8834495e04cdf6c",
      "91222ce686414459be9c1b2158b17dae"
     ]
    },
    "colab_type": "code",
    "id": "TfPKOYu6G5H7",
    "outputId": "c650c0e5-af11-4f0b-f668-512fdc2358fe"
   },
   "outputs": [
    {
     "data": {
      "application/vnd.jupyter.widget-view+json": {
       "model_id": "9454a53b84b549a8acaf36c144d53559",
       "version_major": 2,
       "version_minor": 0
      },
      "text/plain": [
       "interactive(children=(IntSlider(value=1793, description='sample', max=3587), Output()), _dom_classes=('widget-…"
      ]
     },
     "metadata": {},
     "output_type": "display_data"
    }
   ],
   "source": [
    "@interact(sample = (0, len(test_data)))\n",
    "def show_image_dataset(sample):\n",
    "    info, label  = test_data[sample], labels_test[sample]\n",
    "    pixels       = info.reshape(IMAGE_SIZE, IMAGE_SIZE)\n",
    "\n",
    "    input_pixels    = info.reshape(1, IMAGE_SIZE, IMAGE_SIZE).tolist()\n",
    "    predicted_label = net.evaluate(torch.FloatTensor([input_pixels]))\n",
    "    \n",
    "    _, ax = plt.subplots(figsize=(3.5, 3.5))\n",
    "    sns.heatmap(data=pixels, cmap=\"YlGnBu\", ax=ax)\n",
    "\n",
    "    actual    = f\"{num_to_letter(label)} ⟵ actual\"\n",
    "    predicted = f\"{num_to_letter(predicted_label)} ⟵ predicted\"\n",
    "    plt.title(actual + \"\\n\" + predicted, fontsize=20, color=\"#00008b\", loc=\"left\")\n",
    "\n",
    "    plt.show()"
   ]
  },
  {
   "cell_type": "markdown",
   "metadata": {},
   "source": [
    "<img src=\"./after.png\" width=\"60%\" />"
   ]
  },
  {
   "cell_type": "code",
   "execution_count": 64,
   "metadata": {
    "colab": {
     "base_uri": "https://localhost:8080/",
     "height": 34
    },
    "colab_type": "code",
    "id": "5kHljwQfG5H9",
    "outputId": "4a09ce1b-eda7-421a-edf6-59a3aaabf30a"
   },
   "outputs": [
    {
     "name": "stdout",
     "output_type": "stream",
     "text": [
      "Correct predictions: 3388 / 3587: 0.944522\n"
     ]
    }
   ],
   "source": [
    "prediction = net.evaluate(Variable(test_data_formated))\n",
    "accuracy = net.accuracy(prediction, test_labels)\n",
    "\n",
    "n = len(prediction)\n",
    "correct = int(n * accuracy)\n",
    "print(f\"Correct predictions: {correct} / {n}: \", end=\"\")\n",
    "print(f\"{round(accuracy, 6)}\")"
   ]
  }
 ],
 "metadata": {
  "accelerator": "GPU",
  "colab": {
   "name": "SignLanguage.ipynb",
   "provenance": []
  },
  "kernelspec": {
   "display_name": "Python 3",
   "language": "python",
   "name": "python3"
  },
  "language_info": {
   "codemirror_mode": {
    "name": "ipython",
    "version": 3
   },
   "file_extension": ".py",
   "mimetype": "text/x-python",
   "name": "python",
   "nbconvert_exporter": "python",
   "pygments_lexer": "ipython3",
   "version": "3.8.5"
  },
  "widgets": {
   "application/vnd.jupyter.widget-state+json": {
    "03049101020341bba6beb9864b8db6d9": {
     "model_module": "@jupyter-widgets/controls",
     "model_name": "VBoxModel",
     "state": {
      "_dom_classes": [
       "widget-interact"
      ],
      "_model_module": "@jupyter-widgets/controls",
      "_model_module_version": "1.5.0",
      "_model_name": "VBoxModel",
      "_view_count": null,
      "_view_module": "@jupyter-widgets/controls",
      "_view_module_version": "1.5.0",
      "_view_name": "VBoxView",
      "box_style": "",
      "children": [
       "IPY_MODEL_5878498b643642c0b067a7768f0c9907",
       "IPY_MODEL_79e27160988d41bb893cc73f697d5bd4"
      ],
      "layout": "IPY_MODEL_4cff6a8419aa435b9e26cf3939349e6a"
     }
    },
    "072237393b8c4f39b59302e06cfb6956": {
     "model_module": "@jupyter-widgets/controls",
     "model_name": "VBoxModel",
     "state": {
      "_dom_classes": [
       "widget-interact"
      ],
      "_model_module": "@jupyter-widgets/controls",
      "_model_module_version": "1.5.0",
      "_model_name": "VBoxModel",
      "_view_count": null,
      "_view_module": "@jupyter-widgets/controls",
      "_view_module_version": "1.5.0",
      "_view_name": "VBoxView",
      "box_style": "",
      "children": [
       "IPY_MODEL_cb75ca694b3b4a679ed5fa3c64db1766",
       "IPY_MODEL_6d73933409c64161865be31a485af66d"
      ],
      "layout": "IPY_MODEL_799c7008b8d44f418d13503ad592c4e3"
     }
    },
    "4cff6a8419aa435b9e26cf3939349e6a": {
     "model_module": "@jupyter-widgets/base",
     "model_name": "LayoutModel",
     "state": {
      "_model_module": "@jupyter-widgets/base",
      "_model_module_version": "1.2.0",
      "_model_name": "LayoutModel",
      "_view_count": null,
      "_view_module": "@jupyter-widgets/base",
      "_view_module_version": "1.2.0",
      "_view_name": "LayoutView",
      "align_content": null,
      "align_items": null,
      "align_self": null,
      "border": null,
      "bottom": null,
      "display": null,
      "flex": null,
      "flex_flow": null,
      "grid_area": null,
      "grid_auto_columns": null,
      "grid_auto_flow": null,
      "grid_auto_rows": null,
      "grid_column": null,
      "grid_gap": null,
      "grid_row": null,
      "grid_template_areas": null,
      "grid_template_columns": null,
      "grid_template_rows": null,
      "height": null,
      "justify_content": null,
      "justify_items": null,
      "left": null,
      "margin": null,
      "max_height": null,
      "max_width": null,
      "min_height": null,
      "min_width": null,
      "object_fit": null,
      "object_position": null,
      "order": null,
      "overflow": null,
      "overflow_x": null,
      "overflow_y": null,
      "padding": null,
      "right": null,
      "top": null,
      "visibility": null,
      "width": null
     }
    },
    "5017053b634741a4bb877db9d0bd83b9": {
     "model_module": "@jupyter-widgets/controls",
     "model_name": "SliderStyleModel",
     "state": {
      "_model_module": "@jupyter-widgets/controls",
      "_model_module_version": "1.5.0",
      "_model_name": "SliderStyleModel",
      "_view_count": null,
      "_view_module": "@jupyter-widgets/base",
      "_view_module_version": "1.2.0",
      "_view_name": "StyleView",
      "description_width": "",
      "handle_color": null
     }
    },
    "5878498b643642c0b067a7768f0c9907": {
     "model_module": "@jupyter-widgets/controls",
     "model_name": "IntSliderModel",
     "state": {
      "_dom_classes": [],
      "_model_module": "@jupyter-widgets/controls",
      "_model_module_version": "1.5.0",
      "_model_name": "IntSliderModel",
      "_view_count": null,
      "_view_module": "@jupyter-widgets/controls",
      "_view_module_version": "1.5.0",
      "_view_name": "IntSliderView",
      "continuous_update": true,
      "description": "sample",
      "description_tooltip": null,
      "disabled": false,
      "layout": "IPY_MODEL_67069b103fdf436390f59fa411cba16b",
      "max": 7172,
      "min": 0,
      "orientation": "horizontal",
      "readout": true,
      "readout_format": "d",
      "step": 1,
      "style": "IPY_MODEL_e3f7c1c8ad8b41cd8a4f5fa65c14fe3e",
      "value": 3586
     }
    },
    "6633f97b8df34865b8834495e04cdf6c": {
     "model_module": "@jupyter-widgets/base",
     "model_name": "LayoutModel",
     "state": {
      "_model_module": "@jupyter-widgets/base",
      "_model_module_version": "1.2.0",
      "_model_name": "LayoutModel",
      "_view_count": null,
      "_view_module": "@jupyter-widgets/base",
      "_view_module_version": "1.2.0",
      "_view_name": "LayoutView",
      "align_content": null,
      "align_items": null,
      "align_self": null,
      "border": null,
      "bottom": null,
      "display": null,
      "flex": null,
      "flex_flow": null,
      "grid_area": null,
      "grid_auto_columns": null,
      "grid_auto_flow": null,
      "grid_auto_rows": null,
      "grid_column": null,
      "grid_gap": null,
      "grid_row": null,
      "grid_template_areas": null,
      "grid_template_columns": null,
      "grid_template_rows": null,
      "height": null,
      "justify_content": null,
      "justify_items": null,
      "left": null,
      "margin": null,
      "max_height": null,
      "max_width": null,
      "min_height": null,
      "min_width": null,
      "object_fit": null,
      "object_position": null,
      "order": null,
      "overflow": null,
      "overflow_x": null,
      "overflow_y": null,
      "padding": null,
      "right": null,
      "top": null,
      "visibility": null,
      "width": null
     }
    },
    "67069b103fdf436390f59fa411cba16b": {
     "model_module": "@jupyter-widgets/base",
     "model_name": "LayoutModel",
     "state": {
      "_model_module": "@jupyter-widgets/base",
      "_model_module_version": "1.2.0",
      "_model_name": "LayoutModel",
      "_view_count": null,
      "_view_module": "@jupyter-widgets/base",
      "_view_module_version": "1.2.0",
      "_view_name": "LayoutView",
      "align_content": null,
      "align_items": null,
      "align_self": null,
      "border": null,
      "bottom": null,
      "display": null,
      "flex": null,
      "flex_flow": null,
      "grid_area": null,
      "grid_auto_columns": null,
      "grid_auto_flow": null,
      "grid_auto_rows": null,
      "grid_column": null,
      "grid_gap": null,
      "grid_row": null,
      "grid_template_areas": null,
      "grid_template_columns": null,
      "grid_template_rows": null,
      "height": null,
      "justify_content": null,
      "justify_items": null,
      "left": null,
      "margin": null,
      "max_height": null,
      "max_width": null,
      "min_height": null,
      "min_width": null,
      "object_fit": null,
      "object_position": null,
      "order": null,
      "overflow": null,
      "overflow_x": null,
      "overflow_y": null,
      "padding": null,
      "right": null,
      "top": null,
      "visibility": null,
      "width": null
     }
    },
    "6d73933409c64161865be31a485af66d": {
     "model_module": "@jupyter-widgets/output",
     "model_name": "OutputModel",
     "state": {
      "_dom_classes": [],
      "_model_module": "@jupyter-widgets/output",
      "_model_module_version": "1.0.0",
      "_model_name": "OutputModel",
      "_view_count": null,
      "_view_module": "@jupyter-widgets/output",
      "_view_module_version": "1.0.0",
      "_view_name": "OutputView",
      "layout": "IPY_MODEL_91222ce686414459be9c1b2158b17dae",
      "msg_id": "909e4231c0374a4797b1edff8c50bad6",
      "outputs": [
       {
        "image/png": "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\n",
        "metadata": {
         "needs_background": "light",
         "tags": []
        },
        "output_type": "display_data",
        "text/plain": "<Figure size 252x252 with 2 Axes>"
       }
      ]
     }
    },
    "799c7008b8d44f418d13503ad592c4e3": {
     "model_module": "@jupyter-widgets/base",
     "model_name": "LayoutModel",
     "state": {
      "_model_module": "@jupyter-widgets/base",
      "_model_module_version": "1.2.0",
      "_model_name": "LayoutModel",
      "_view_count": null,
      "_view_module": "@jupyter-widgets/base",
      "_view_module_version": "1.2.0",
      "_view_name": "LayoutView",
      "align_content": null,
      "align_items": null,
      "align_self": null,
      "border": null,
      "bottom": null,
      "display": null,
      "flex": null,
      "flex_flow": null,
      "grid_area": null,
      "grid_auto_columns": null,
      "grid_auto_flow": null,
      "grid_auto_rows": null,
      "grid_column": null,
      "grid_gap": null,
      "grid_row": null,
      "grid_template_areas": null,
      "grid_template_columns": null,
      "grid_template_rows": null,
      "height": null,
      "justify_content": null,
      "justify_items": null,
      "left": null,
      "margin": null,
      "max_height": null,
      "max_width": null,
      "min_height": null,
      "min_width": null,
      "object_fit": null,
      "object_position": null,
      "order": null,
      "overflow": null,
      "overflow_x": null,
      "overflow_y": null,
      "padding": null,
      "right": null,
      "top": null,
      "visibility": null,
      "width": null
     }
    },
    "79e27160988d41bb893cc73f697d5bd4": {
     "model_module": "@jupyter-widgets/output",
     "model_name": "OutputModel",
     "state": {
      "_dom_classes": [],
      "_model_module": "@jupyter-widgets/output",
      "_model_module_version": "1.0.0",
      "_model_name": "OutputModel",
      "_view_count": null,
      "_view_module": "@jupyter-widgets/output",
      "_view_module_version": "1.0.0",
      "_view_name": "OutputView",
      "layout": "IPY_MODEL_b0cd8a50ae0b4f98842d078e6428aee8",
      "msg_id": "",
      "outputs": [
       {
        "image/png": "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\n",
        "metadata": {
         "needs_background": "light",
         "tags": []
        },
        "output_type": "display_data",
        "text/plain": "<Figure size 252x252 with 2 Axes>"
       }
      ]
     }
    },
    "91222ce686414459be9c1b2158b17dae": {
     "model_module": "@jupyter-widgets/base",
     "model_name": "LayoutModel",
     "state": {
      "_model_module": "@jupyter-widgets/base",
      "_model_module_version": "1.2.0",
      "_model_name": "LayoutModel",
      "_view_count": null,
      "_view_module": "@jupyter-widgets/base",
      "_view_module_version": "1.2.0",
      "_view_name": "LayoutView",
      "align_content": null,
      "align_items": null,
      "align_self": null,
      "border": null,
      "bottom": null,
      "display": null,
      "flex": null,
      "flex_flow": null,
      "grid_area": null,
      "grid_auto_columns": null,
      "grid_auto_flow": null,
      "grid_auto_rows": null,
      "grid_column": null,
      "grid_gap": null,
      "grid_row": null,
      "grid_template_areas": null,
      "grid_template_columns": null,
      "grid_template_rows": null,
      "height": null,
      "justify_content": null,
      "justify_items": null,
      "left": null,
      "margin": null,
      "max_height": null,
      "max_width": null,
      "min_height": null,
      "min_width": null,
      "object_fit": null,
      "object_position": null,
      "order": null,
      "overflow": null,
      "overflow_x": null,
      "overflow_y": null,
      "padding": null,
      "right": null,
      "top": null,
      "visibility": null,
      "width": null
     }
    },
    "b0cd8a50ae0b4f98842d078e6428aee8": {
     "model_module": "@jupyter-widgets/base",
     "model_name": "LayoutModel",
     "state": {
      "_model_module": "@jupyter-widgets/base",
      "_model_module_version": "1.2.0",
      "_model_name": "LayoutModel",
      "_view_count": null,
      "_view_module": "@jupyter-widgets/base",
      "_view_module_version": "1.2.0",
      "_view_name": "LayoutView",
      "align_content": null,
      "align_items": null,
      "align_self": null,
      "border": null,
      "bottom": null,
      "display": null,
      "flex": null,
      "flex_flow": null,
      "grid_area": null,
      "grid_auto_columns": null,
      "grid_auto_flow": null,
      "grid_auto_rows": null,
      "grid_column": null,
      "grid_gap": null,
      "grid_row": null,
      "grid_template_areas": null,
      "grid_template_columns": null,
      "grid_template_rows": null,
      "height": null,
      "justify_content": null,
      "justify_items": null,
      "left": null,
      "margin": null,
      "max_height": null,
      "max_width": null,
      "min_height": null,
      "min_width": null,
      "object_fit": null,
      "object_position": null,
      "order": null,
      "overflow": null,
      "overflow_x": null,
      "overflow_y": null,
      "padding": null,
      "right": null,
      "top": null,
      "visibility": null,
      "width": null
     }
    },
    "cb75ca694b3b4a679ed5fa3c64db1766": {
     "model_module": "@jupyter-widgets/controls",
     "model_name": "IntSliderModel",
     "state": {
      "_dom_classes": [],
      "_model_module": "@jupyter-widgets/controls",
      "_model_module_version": "1.5.0",
      "_model_name": "IntSliderModel",
      "_view_count": null,
      "_view_module": "@jupyter-widgets/controls",
      "_view_module_version": "1.5.0",
      "_view_name": "IntSliderView",
      "continuous_update": true,
      "description": "sample",
      "description_tooltip": null,
      "disabled": false,
      "layout": "IPY_MODEL_6633f97b8df34865b8834495e04cdf6c",
      "max": 3587,
      "min": 0,
      "orientation": "horizontal",
      "readout": true,
      "readout_format": "d",
      "step": 1,
      "style": "IPY_MODEL_5017053b634741a4bb877db9d0bd83b9",
      "value": 2546
     }
    },
    "e3f7c1c8ad8b41cd8a4f5fa65c14fe3e": {
     "model_module": "@jupyter-widgets/controls",
     "model_name": "SliderStyleModel",
     "state": {
      "_model_module": "@jupyter-widgets/controls",
      "_model_module_version": "1.5.0",
      "_model_name": "SliderStyleModel",
      "_view_count": null,
      "_view_module": "@jupyter-widgets/base",
      "_view_module_version": "1.2.0",
      "_view_name": "StyleView",
      "description_width": "",
      "handle_color": null
     }
    }
   }
  }
 },
 "nbformat": 4,
 "nbformat_minor": 1
}
