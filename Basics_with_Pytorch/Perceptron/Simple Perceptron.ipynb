{
 "cells": [
  {
   "cell_type": "markdown",
   "metadata": {},
   "source": [
    "# PRÁCTICA 02.\n",
    "# Perceptrón Simple.\n",
    "\n",
    "### OBJETIVO:\n",
    "\n",
    "Que el alumno implemente el perceptrón simple y lo aplique en distintos conjuntos de datos aplicando variaciones en la forma de aprendizaje del perceptrón."
   ]
  },
  {
   "cell_type": "code",
   "execution_count": 769,
   "metadata": {},
   "outputs": [],
   "source": [
    "%matplotlib inline\n",
    "\n",
    "import matplotlib.pyplot as plt\n",
    "import matplotlib.cm as cm\n",
    "from mpl_toolkits.mplot3d import Axes3D\n",
    "\n",
    "import json, matplotlib\n",
    "from IPython.core.pylabtools import figsize\n",
    "figsize(11, 5)\n",
    "\n",
    "from ipywidgets import interact, interact_manual, interactive, fixed\n",
    "import ipywidgets as widgets\n",
    "from IPython.display import display\n",
    "import numpy as np\n"
   ]
  },
  {
   "cell_type": "code",
   "execution_count": 770,
   "metadata": {},
   "outputs": [],
   "source": [
    "class Perceptron:\n",
    "    def __init__(self, num_inputs, weights = None, seed = 0):\n",
    "        if weights: self.weights = np.copy(weights)\n",
    "        else:\n",
    "            np.random.seed(seed)\n",
    "            self.weights = np.random.rand(num_inputs)\n",
    "            \n",
    "    def predict(self, input):\n",
    "        ponderate_sum = np.dot(input, self.weights)\n",
    "        result = 1.0 if ponderate_sum > 0 else 0.0\n",
    "        \n",
    "        return np.float64(result), ponderate_sum\n",
    "    \n",
    "    def train(self, input, desired_output, learning_rate):\n",
    "        prediction, _ = self.predict(input)\n",
    "        if prediction == desired_output: return\n",
    "        \n",
    "        add_or_substract = 1.0 if (prediction == 0.0 and desired_output == 1.0)  else -1.0\n",
    "        self.weights = self.weights + (add_or_substract * input)\n",
    "        \n",
    "    def train_epoch(self, input_set, output_set, learning_rate, may_print = True):\n",
    "        for index, input in enumerate(input_set):\n",
    "            output = output_set[index]\n",
    "            if may_print: print(f\"input={input} index={index}\")\n",
    "\n",
    "            prediction, ponderate = self.predict(input)\n",
    "            if may_print: print(f\"prediction={prediction} real={output} ponderate={ponderate} \")\n",
    "\n",
    "            self.train(input, output, learning_rate)\n",
    "\n",
    "            prediction, ponderate = self.predict(input)\n",
    "            if may_print: print(f\"prediction={prediction} real={output} ponderate={ponderate} \")\n",
    "            if may_print: print()\n",
    "\n",
    "        "
   ]
  },
  {
   "cell_type": "markdown",
   "metadata": {},
   "source": [
    "### PERCEPTRÓN\n",
    "\n",
    "Un perceptrón simple es una unidad computacional con un umbral $\\theta$, que al recibir $X \\text{ de }n$ entradas reales $X = x_1, x_2, \\cdots, x_n$ a través de sus pesos asociados $W = w_1, w_2, \\cdots, w_n$, da una salida de valor 1 si la desigualdad $\\sum_{i=1}^{n}w_ix_i \\geq \\theta$ se cumple, en otro caso la salida es 0.\n",
    "\n",
    "La ley de aprendizaje se define como: $w_i(t+1) = w_i (t) + \\alpha · d(x) · x_i$\n",
    "\n",
    "\n",
    "$$\n",
    "\\\n",
    "d(x)= \n",
    "\\begin{cases}\n",
    "1, & \\text{si } x \\in A;\\\\\n",
    "-1, & \\text{si } x \\in B\n",
    "\\end{cases}\n",
    "\\\n",
    "$$\n",
    "\n",
    "y $\\alpha$ la tasa de aprendizaje. Los pesos no se modifican si $x$ está bien clasificado.\n",
    "\n",
    "1.- Implementa la clase Perceptron que contenga lo siguiente:\n",
    "   * Inicialización del perceptrón dados los pesos iniciales.\n",
    "   * Función **evalua_escalon** que reciba X y evalúe la salida utilizando la función escalón en el intervalo [0,1].\n",
    "   * Función **entrena**, debe entrenar al perceptrón: modificación de los pesos en una iteración cada que se llame a esta función dada una tasa de aprendizaje.\n",
    "   \n",
    "2.- Crea un *Perceptron* de pesos iniciales aleatorios y entrénalo con el conjunto de datos datosAND con inicialización de pesos aleatorios.\n",
    "    \n",
    " * Completa la función **entrenaPerceptronAND** y utiliza tu función **entrena** para que en cada paso de entrenamiento se dibuje el conjunto de datos y el plano que divide al conjunto, tal como se muestra en la figura (utiliza colores para diferenciar al conjunto de datos)\n",
    " \n",
    " <img src=\"figuras/foo1.png\">\n",
    " \n",
    "HINT1: Recuerda que el vector de pesos W contiene el vector normal al plano.\n",
    " \n",
    "HINT2: Puedes utilizar la función scatter y plot_surface"
   ]
  },
  {
   "cell_type": "code",
   "execution_count": 771,
   "metadata": {},
   "outputs": [],
   "source": [
    "and_input = np.array([[1, 0, 0, 0],\n",
    "                     [1, 0 ,0, 1],\n",
    "                     [1, 0, 1, 0],\n",
    "                     [1, 0, 1, 1],\n",
    "                     [1, 1, 0, 0],\n",
    "                     [1, 1, 0, 1],\n",
    "                     [1, 1, 1, 0],\n",
    "                     [1, 1, 1, 1]]).astype(np.float64)\n",
    "\n",
    "and_output = np.array([0,0,0,0,0, 0, 0, 1]).astype(np.float64)"
   ]
  },
  {
   "cell_type": "code",
   "execution_count": 772,
   "metadata": {},
   "outputs": [],
   "source": [
    "def show_line_with_perceptron(perceptron, title):\n",
    "    fig = plt.figure()\n",
    "    plane = fig.add_subplot(111, projection='3d')\n",
    "\n",
    "    plane.set_xlabel('input_1')\n",
    "    plane.set_ylabel('input_2')\n",
    "    plane.set_zlabel('input_3')\n",
    "    plane.set_xlim(-0.2, 1.2)\n",
    "    plane.set_ylim(-0.2, 1.2)\n",
    "    plane.set_zlim(-0.5, 2)\n",
    "    \n",
    "    plane.scatter(*data_and[:-1, 1:].T, c=\"red\", label=\"0\")\n",
    "    plane.scatter(*data_and[-1, 1:].T, c=\"blue\", label=\"1\")\n",
    "    \n",
    "    \n",
    "    d, a, b, c = perceptron.weights\n",
    "    normal = np.array([a, b, c])\n",
    "    point  = np.array([-d/a, 0, 0])\n",
    "    d_p = -np.sum(point * normal)\n",
    "    xx, yy = np.meshgrid(np.linspace(0, 1), np.linspace(0, 1))\n",
    "\n",
    "    z3 = (-normal[0]*xx - normal[1]*yy - d_p)*1./normal[2]\n",
    "\n",
    "    plane.plot_surface(xx,yy,z3, color='cyan')\n",
    "    plane.set_title(title)\n"
   ]
  },
  {
   "cell_type": "code",
   "execution_count": 773,
   "metadata": {},
   "outputs": [
    {
     "data": {
      "application/vnd.jupyter.widget-view+json": {
       "model_id": "11d866ac643244aa80b4c5ac26cd7d29",
       "version_major": 2,
       "version_minor": 0
      },
      "text/plain": [
       "interactive(children=(FloatSlider(value=6.0, description='epochs', max=10.0, min=1.0, step=1.0), Button(descri…"
      ]
     },
     "metadata": {},
     "output_type": "display_data"
    }
   ],
   "source": [
    "# train\n",
    "perceptron_and = None\n",
    "\n",
    "@interact_manual(epochs=widgets.FloatSlider(min=1, max=10, step=1, value=6))\n",
    "def entrenaPerceptronAND(epochs):\n",
    "    global perceptron_and\n",
    "    \n",
    "    perceptron_and = Perceptron(4)\n",
    "    epochs = int(epochs)\n",
    "    for epoch in range(epochs):\n",
    "        perceptron_and.train_epoch(and_input, and_output, 0.1, False)\n",
    "        show_line_with_perceptron(perceptron_and, f\"Epoch # {epoch + 1}\")\n",
    "        print(perceptron_and.predict([1, 0, 0, 0]))\n",
    "    "
   ]
  },
  {
   "cell_type": "code",
   "execution_count": 774,
   "metadata": {},
   "outputs": [
    {
     "ename": "AttributeError",
     "evalue": "'NoneType' object has no attribute 'predict'",
     "output_type": "error",
     "traceback": [
      "\u001b[0;31m---------------------------------------------------------------------------\u001b[0m",
      "\u001b[0;31mAttributeError\u001b[0m                            Traceback (most recent call last)",
      "\u001b[0;32m<ipython-input-774-96918b14b3dd>\u001b[0m in \u001b[0;36m<module>\u001b[0;34m\u001b[0m\n\u001b[0;32m----> 1\u001b[0;31m \u001b[0mprint\u001b[0m\u001b[0;34m(\u001b[0m\u001b[0mperceptron_and\u001b[0m\u001b[0;34m.\u001b[0m\u001b[0mpredict\u001b[0m\u001b[0;34m(\u001b[0m\u001b[0;34m[\u001b[0m\u001b[0;36m1\u001b[0m\u001b[0;34m,\u001b[0m  \u001b[0;36m1\u001b[0m\u001b[0;34m,\u001b[0m \u001b[0;36m1\u001b[0m\u001b[0;34m,\u001b[0m \u001b[0;36m1\u001b[0m\u001b[0;34m]\u001b[0m\u001b[0;34m)\u001b[0m\u001b[0;34m)\u001b[0m\u001b[0;34m\u001b[0m\u001b[0;34m\u001b[0m\u001b[0m\n\u001b[0m",
      "\u001b[0;31mAttributeError\u001b[0m: 'NoneType' object has no attribute 'predict'"
     ]
    }
   ],
   "source": [
    "print(perceptron_and.predict([1,  1, 1, 1]))"
   ]
  },
  {
   "cell_type": "markdown",
   "metadata": {
    "collapsed": true
   },
   "source": [
    "### MÍNIMOS CUADRADOS\n",
    "\n",
    "La meta es encontrar los pesos $w$ que mejor mapean los datos de entrada en los datos objetivo. Con ese fin, se plantea la ecuación de error:\n",
    "\n",
    "\\begin{equation}\n",
    "    E(w) = \\frac{1}{2} \\| \\bar{y} − \\bar{t} \\|^2\n",
    "\\end{equation}\n",
    "\n",
    "Con $\\bar{t}$ el vector de datos objetivo, $\\bar{y}$ el vector de salidas asociadas $ y(x) = X^Tw $\n",
    "\n",
    "A partir de la ecuación anterior obtenemos:\n",
    "\n",
    "\\begin{equation}\n",
    "E(w) = \\frac{1}{2}(\\bar{y}-\\bar{t})^T(\\bar{y}-\\bar{t})\n",
    "\\end{equation}\n",
    "\n",
    "Derivando respecto a $w$\n",
    "\n",
    "\\begin{equation}\n",
    "\\frac{dE(w)}{dw} = \\phi(\\bar{y}-\\bar{t})\n",
    "\\end{equation}\n",
    "\n",
    "con $\\phi= [x^1  \\cdots x^N] \\text{ y }x^i$ el i−ésimo vector de datos de entrada a la red. $N$ el número de datos/registros de entrenamiento.\n",
    "\n",
    "De lo anterior tenemos:\n",
    "\n",
    "\\begin{equation}\n",
    "w = (\\phi \\phi^T)^{-1}\\phi \\bar{t}\n",
    "\\end{equation}\n",
    "\n"
   ]
  },
  {
   "cell_type": "markdown",
   "metadata": {
    "collapsed": true
   },
   "source": [
    "### ENTRENAMIENTO Y PRUEBA\n",
    "\n",
    "Hay dos fases en el modelado con redes neuronales:\n",
    "* **Fase de entrenamiento:** Se utiliza un conjunto de datos o patrones de entrenamiento\n",
    "para determinar los pesos que definen el modelo. Se calculan de manera iterativa con el objeto de minimizar el error cometido entre la salida obtenida por la red neuronal y la salida deseada.\n",
    "\n",
    "* **Fase de prueba:** Se utiliza para estimar el error de generalización del modelo.\n",
    "\n",
    "\n",
    "\n",
    "1. Dado el conjunto de datos datos.txt anexo, entrena un perceptrón con el 70% de los datos (elegidos aleatoriamente). El otro 30% será el conjunto de prueba.\n",
    "\n",
    "2. Para el mismo conjunto de entrenamiento, calcula los pesos $w$ con el método de mínimos cuadrados.\n",
    "\n",
    "2. Grafica y compara los resultados de $w$ obtenidos del entrenamiento del perceptrón y el de mínimos cuadrados. La salida dece ser similar a la figura siguiente:\n",
    "<img src=\"figuras/min_per.png\">\n",
    "\n",
    "3. Utiliza el conjunto de prueba para obtener la exactitud de los modelos.\n",
    "\n",
    "OBS:  El archivo datos.txt contiene 3 columnas separadas por comas, las dos primeras columnas son el valor del conjunto $X = \\{x_1, x_2\\}$; la tercer columna son los datos objetivo $\\bar{t}$\n",
    "\n",
    "\n",
    "El criterio de parada tómalo como un número fijo de iteraciones o hasta que el conjunto esté  totalmente clasificado y fija la tasa de aprendizaje a una constante.\n"
   ]
  },
  {
   "cell_type": "code",
   "execution_count": 775,
   "metadata": {},
   "outputs": [],
   "source": [
    "# Split data\n",
    "data = np.loadtxt(open(\"data.csv\", \"rb\"), delimiter=\",\").astype(np.float64)\n",
    "np.random.shuffle(data)\n",
    "number_of_points = len(data)\n",
    "split_index = int(0.7 * number_of_points)\n",
    "\n",
    "training, test = data[ : split_index], data[split_index : ]\n",
    "\n",
    "training_input, training_output = training[:, [0, 1]], training[:, 2]\n",
    "test_input, test_output = test[:, [0, 1]], test[:, 2]\n",
    "\n",
    "bias = np.ones((len(training_input), 1))\n",
    "training_input = np.concatenate( (bias, training_input), axis=1)\n",
    "\n",
    "bias = np.ones((len(test_input), 1))\n",
    "test_input = np.concatenate( (bias, test_input), axis=1)\n",
    "\n",
    "training_pure_data = training_input[:, 1:].T\n",
    "test_pure_data = test_input[:, 1:].T"
   ]
  },
  {
   "cell_type": "code",
   "execution_count": 776,
   "metadata": {},
   "outputs": [],
   "source": [
    "# Train perceptron\n",
    "perceptron2 = Perceptron(3)\n",
    "\n",
    "for i in range(20):\n",
    "    perceptron2.train_epoch(training_input, training_output, 0.08, False)\n",
    "    \n",
    "b, w1, w2 = perceptron2.weights\n",
    "x = -b / w1\n",
    "y = -b / w2\n",
    "\n",
    "d = y\n",
    "c = -y / x\n",
    "\n",
    "line_x_perceptron = np.array([0, 6])\n",
    "line_y_perceptron = c * line_x_perceptron + d"
   ]
  },
  {
   "cell_type": "code",
   "execution_count": 777,
   "metadata": {},
   "outputs": [],
   "source": [
    "# Get Least Squares\n",
    "phi = training_input\n",
    "t = np.copy(training_output)\n",
    "t[t == 0.0] = -1\n",
    "\n",
    "beta = np.linalg.inv(phi.T @ phi) @ (phi.T @ t)\n",
    "\n",
    "line_x_least = np.linspace(0, 5, 20)\n",
    "line_y_least = -beta[0] / beta[2] - (beta[1] / beta[2]) * line_x_least"
   ]
  },
  {
   "cell_type": "code",
   "execution_count": 778,
   "metadata": {},
   "outputs": [
    {
     "data": {
      "image/png": "[encoded data removed]",
      "text/plain": [
       "<Figure size 792x360 with 1 Axes>"
      ]
     },
     "metadata": {
      "needs_background": "light"
     },
     "output_type": "display_data"
    }
   ],
   "source": [
    "#Compare\n",
    "plt.plot(line_x_perceptron, line_y_perceptron, label='Perceptron')\n",
    "plt.plot(line_x_least, line_y_least, label='Least Squares')\n",
    "\n",
    "plt.legend()\n",
    "plt.scatter(*test_pure_data, c=test_output)\n",
    "\n",
    "plt.show()"
   ]
  }
 ],
 "metadata": {
  "kernelspec": {
   "display_name": "Python 3",
   "language": "python",
   "name": "python3"
  },
  "language_info": {
   "codemirror_mode": {
    "name": "ipython",
    "version": 3
   },
   "file_extension": ".py",
   "mimetype": "text/x-python",
   "name": "python",
   "nbconvert_exporter": "python",
   "pygments_lexer": "ipython3",
   "version": "3.7.4"
  }
 },
 "nbformat": 4,
 "nbformat_minor": 1
}
