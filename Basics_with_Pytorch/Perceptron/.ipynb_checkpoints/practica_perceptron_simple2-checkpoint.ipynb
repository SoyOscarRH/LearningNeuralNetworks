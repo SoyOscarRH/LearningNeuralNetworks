{
 "cells": [
  {
   "cell_type": "markdown",
   "metadata": {},
   "source": [
    "# PRÁCTICA 02.\n",
    "# Perceptrón Simple.\n",
    "\n",
    "### OBJETIVO:\n",
    "\n",
    "Que el alumno implemente el perceptrón simple y lo aplique en distintos conjuntos de datos aplicando variaciones en la forma de aprendizaje del perceptrón."
   ]
  },
  {
   "cell_type": "code",
   "execution_count": 4,
   "metadata": {},
   "outputs": [],
   "source": [
    "%matplotlib inline\n",
    "\n",
    "import matplotlib.pyplot as plt\n",
    "import matplotlib.cm as cm\n",
    "from mpl_toolkits.mplot3d import Axes3D\n",
    "\n",
    "import json, matplotlib\n",
    "from IPython.core.pylabtools import figsize\n",
    "figsize(11, 5)\n",
    "colores = [\"#348ABD\", \"#A60628\",\"#06A628\"]\n",
    "\n",
    "from ipywidgets import interact, interact_manual, interactive, fixed\n",
    "import ipywidgets as widgets\n",
    "from IPython.display import display\n",
    "import numpy as np\n",
    "\n",
    "### Remueve esta línea de código, pues agregarás tus propias funciones\n",
    "#from perceptron.Perceptron import *\n",
    "#from perceptron.minimos import *"
   ]
  },
  {
   "cell_type": "markdown",
   "metadata": {},
   "source": [
    "### PERCEPTRÓN\n",
    "\n",
    "Un perceptrón simple es una unidad computacional con un umbral $\\theta$, que al recibir $X \\text{ de }n$ entradas reales $X = x_1, x_2, \\cdots, x_n$ a través de sus pesos asociados $W = w_1, w_2, \\cdots, w_n$, da una salida de valor 1 si la desigualdad $\\sum_{i=1}^{n}w_ix_i \\geq \\theta$ se cumple, en otro caso la salida es 0.\n",
    "\n",
    "La ley de aprendizaje se define como: $w_i(t+1) = w_i (t) + \\alpha · d(x) · x_i$\n",
    "\n",
    "\n",
    "$$\n",
    "\\\n",
    "d(x)= \n",
    "\\begin{cases}\n",
    "1, & \\text{si } x \\in A;\\\\\n",
    "-1, & \\text{si } x \\in B\n",
    "\\end{cases}\n",
    "\\\n",
    "$$\n",
    "\n",
    "y $\\alpha$ la tasa de aprendizaje. Los pesos no se modifican si $x$ está bien clasificado.\n",
    "\n",
    "1.- Implementa la clase Perceptron que contenga lo siguiente:\n",
    "   * Inicialización del perceptrón dados los pesos iniciales.\n",
    "   * Función **evalua_escalon** que reciba X y evalúe la salida utilizando la función escalón en el intervalo [0,1].\n",
    "   * Función **entrena**, debe entrenar al perceptrón: modificación de los pesos en una iteración cada que se llame a esta función dada una tasa de aprendizaje.\n",
    "   \n",
    "2.- Crea un *Perceptron* de pesos iniciales aleatorios y entrénalo con el conjunto de datos datosAND con inicialización de pesos aleatorios.\n",
    "    \n",
    " * Completa la función **entrenaPerceptronAND** y utiliza tu función **entrena** para que en cada paso de entrenamiento se dibuje el conjunto de datos y el plano que divide al conjunto, tal como se muestra en la figura (utiliza colores para diferenciar al conjunto de datos)\n",
    " \n",
    " <img src=\"figuras/foo1.png\">\n",
    " \n",
    "HINT1: Recuerda que el vector de pesos W contiene el vector normal al plano.\n",
    " \n",
    "HINT2: Puedes utilizar la función scatter y plot_surface"
   ]
  },
  {
   "cell_type": "code",
   "execution_count": 5,
   "metadata": {},
   "outputs": [
    {
     "data": {
      "application/vnd.jupyter.widget-view+json": {
       "model_id": "4c2f9eb8be004901977b8a106a4db6bf",
       "version_major": 2,
       "version_minor": 0
      },
      "text/plain": [
       "interactive(children=(Button(description='Run Interact', style=ButtonStyle()), Output()), _dom_classes=('widge…"
      ]
     },
     "metadata": {},
     "output_type": "display_data"
    }
   ],
   "source": [
    "datosAND = np.array([[[1, 0, 0, 0]],\n",
    "                     [[1, 0 ,0, 1]],\n",
    "                     [[1, 0, 1, 0]],\n",
    "                     [[1, 0, 1, 1]],\n",
    "                     [[1, 1, 0, 0]],\n",
    "                     [[1, 1, 0, 1]],\n",
    "                     [[1, 1, 1, 0]],\n",
    "                     [[1, 1, 1, 1]]])\n",
    "\n",
    "respuestasAND = np.array([0,0,0,0,0, 0, 0, 1])\n",
    "\n",
    "indiceX = 0\n",
    "pasos = 0\n",
    "\n",
    "@interact_manual()\n",
    "def entrenaPerceptronAND():\n",
    "    global indiceX, pasos\n",
    "    x = datosAND[:,0,1]\n",
    "    y = datosAND[:,0,2]\n",
    "    z = datosAND[:,0,3]\n",
    "    \n",
    "    fig = plt.figure()\n",
    "    ax = fig.add_subplot(111, projection='3d')\n",
    "    \n",
    "    ax.set_xlabel('X Label')\n",
    "    ax.set_ylabel('Y Label')\n",
    "    ax.set_zlabel('Z Label')\n",
    "    "
   ]
  },
  {
   "cell_type": "markdown",
   "metadata": {
    "collapsed": true
   },
   "source": [
    "### MÍNIMOS CUADRADOS\n",
    "\n",
    "La meta es encontrar los pesos $w$ que mejor mapean los datos de entrada en los datos objetivo. Con ese fin, se plantea la ecuación de error:\n",
    "\n",
    "\\begin{equation}\n",
    "    E(w) = \\frac{1}{2} \\| \\bar{y} − \\bar{t} \\|^2\n",
    "\\end{equation}\n",
    "\n",
    "Con $\\bar{t}$ el vector de datos objetivo, $\\bar{y}$ el vector de salidas asociadas $ y(x) = X^Tw $\n",
    "\n",
    "A partir de la ecuación anterior obtenemos:\n",
    "\n",
    "\\begin{equation}\n",
    "E(w) = \\frac{1}{2}(\\bar{y}-\\bar{t})^T(\\bar{y}-\\bar{t})\n",
    "\\end{equation}\n",
    "\n",
    "Derivando respecto a $w$\n",
    "\n",
    "\\begin{equation}\n",
    "\\frac{dE(w)}{dw} = \\phi(\\bar{y}-\\bar{t})\n",
    "\\end{equation}\n",
    "\n",
    "con $\\phi= [x^1  \\cdots x^N] \\text{ y }x^i$ el i−ésimo vector de datos de entrada a la red. $N$ el número de datos/registros de entrenamiento.\n",
    "\n",
    "De lo anterior tenemos:\n",
    "\n",
    "\\begin{equation}\n",
    "w = (\\phi \\phi^T)^{-1}\\phi \\bar{t}\n",
    "\\end{equation}\n",
    "\n"
   ]
  },
  {
   "cell_type": "markdown",
   "metadata": {
    "collapsed": true
   },
   "source": [
    "### ENTRENAMIENTO Y PRUEBA\n",
    "\n",
    "Hay dos fases en el modelado con redes neuronales:\n",
    "* **Fase de entrenamiento:** Se utiliza un conjunto de datos o patrones de entrenamiento\n",
    "para determinar los pesos que definen el modelo. Se calculan de manera iterativa con el objeto de minimizar el error cometido entre la salida obtenida por la red neuronal y la salida deseada.\n",
    "\n",
    "* **Fase de prueba:** Se utiliza para estimar el error de generalización del modelo.\n",
    "\n",
    "\n",
    "\n",
    "1. Dado el conjunto de datos datos.txt anexo, entrena un perceptrón con el 70% de los datos (elegidos aleatoriamente). El otro 30% será el conjunto de prueba.\n",
    "\n",
    "2. Para el mismo conjunto de entrenamiento, calcula los pesos $w$ con el método de mínimos cuadrados.\n",
    "\n",
    "2. Grafica y compara los resultados de $w$ obtenidos del entrenamiento del perceptrón y el de mínimos cuadrados. La salida dece ser similar a la figura siguiente:\n",
    "<img src=\"figuras/min_per.png\">\n",
    "\n",
    "3. Utiliza el conjunto de prueba para obtener la exactitud de los modelos.\n",
    "\n",
    "OBS:  El archivo datos.txt contiene 3 columnas separadas por comas, las dos primeras columnas son el valor del conjunto $X = \\{x_1, x_2\\}$; la tercer columna son los datos objetivo $\\bar{t}$\n",
    "\n",
    "\n",
    "El criterio de parada tómalo como un número fijo de iteraciones o hasta que el conjunto esté  totalmente clasificado y fija la tasa de aprendizaje a una constante.\n"
   ]
  },
  {
   "cell_type": "code",
   "execution_count": 3,
   "metadata": {},
   "outputs": [],
   "source": [
    "\n",
    "#minimos_perceptron()\n"
   ]
  },
  {
   "cell_type": "code",
   "execution_count": null,
   "metadata": {
    "collapsed": true
   },
   "outputs": [],
   "source": []
  },
  {
   "cell_type": "code",
   "execution_count": null,
   "metadata": {
    "collapsed": true
   },
   "outputs": [],
   "source": []
  }
 ],
 "metadata": {
  "kernelspec": {
   "display_name": "Python 3",
   "language": "python",
   "name": "python3"
  },
  "language_info": {
   "codemirror_mode": {
    "name": "ipython",
    "version": 3
   },
   "file_extension": ".py",
   "mimetype": "text/x-python",
   "name": "python",
   "nbconvert_exporter": "python",
   "pygments_lexer": "ipython3",
   "version": "3.7.4"
  }
 },
 "nbformat": 4,
 "nbformat_minor": 1
}
