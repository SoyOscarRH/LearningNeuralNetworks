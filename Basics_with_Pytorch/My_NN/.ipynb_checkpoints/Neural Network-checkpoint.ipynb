{
 "cells": [
  {
   "cell_type": "markdown",
   "metadata": {},
   "source": [
    "## My Neural Network"
   ]
  },
  {
   "cell_type": "code",
   "execution_count": 16,
   "metadata": {},
   "outputs": [],
   "source": [
    "import numpy as np\n",
    "import scipy as sc\n",
    "\n",
    "import matplotlib.pyplot as plt\n",
    "\n",
    "from ipywidgets import interact, interactive, fixed, interact_manual\n",
    "import ipywidgets as widgets\n",
    "from IPython.display import display"
   ]
  },
  {
   "cell_type": "markdown",
   "metadata": {},
   "source": [
    "## Datasets"
   ]
  },
  {
   "cell_type": "code",
   "execution_count": 17,
   "metadata": {},
   "outputs": [],
   "source": [
    "input_dataset = np.array([[0, 0], [0, 1], [1, 0], [1, 1]])\n",
    "output_dataset = np.array([[0], [1], [1], [0]])"
   ]
  },
  {
   "cell_type": "markdown",
   "metadata": {},
   "source": [
    "## Activation functions"
   ]
  },
  {
   "cell_type": "code",
   "execution_count": 18,
   "metadata": {},
   "outputs": [],
   "source": [
    "# function, derivate\n",
    "sigm = lambda x : 1 / (1 + np.exp(-x))\n",
    "\n",
    "sigmoid = (\n",
    "    lambda x : sigm(x),\n",
    "    lambda x : sigm(x) * (1 - sigm(x))\n",
    ")"
   ]
  },
  {
   "cell_type": "markdown",
   "metadata": {},
   "source": [
    "### Cost function"
   ]
  },
  {
   "cell_type": "code",
   "execution_count": 19,
   "metadata": {},
   "outputs": [],
   "source": [
    "# function, derivate\n",
    "mean_square_error = (\n",
    "    lambda prediction, real : np.mean((prediction - real) ** 2),\n",
    "    lambda prediction, real : (prediction - real)\n",
    ")"
   ]
  },
  {
   "cell_type": "markdown",
   "metadata": {},
   "source": [
    "## Neural Network Layer class"
   ]
  },
  {
   "cell_type": "code",
   "execution_count": 23,
   "metadata": {},
   "outputs": [],
   "source": [
    "class NeuralLayer:\n",
    "    def __init__(self, num_connections_entering, num_neurons, activation_fn):\n",
    "        self.activation_fn = activation_fn\n",
    "        \n",
    "        # create from -1 to 1\n",
    "        self.bias = np.random.rand(1, num_neurons)\n",
    "        self.weights = np.random.rand(num_connections_entering, num_neurons)\n"
   ]
  },
  {
   "cell_type": "markdown",
   "metadata": {},
   "source": [
    "# Neuronal Network"
   ]
  },
  {
   "cell_type": "code",
   "execution_count": 184,
   "metadata": {},
   "outputs": [
    {
     "name": "stdout",
     "output_type": "stream",
     "text": [
      "['input 1', 'input 2']\n",
      "\n",
      "layer 0: 2 neurons\n",
      "weights\n",
      "[[0.63364823 0.74880388]\n",
      " [0.49850701 0.22479665]]\n",
      "\n",
      "bias\n",
      "[[0.77132064 0.02075195]]\n",
      "layer 1: 1 neurons\n",
      "weights\n",
      "[[0.76053071]\n",
      " [0.16911084]]\n",
      "\n",
      "bias\n",
      "[[0.19806286]]\n"
     ]
    }
   ],
   "source": [
    "np.random.seed(10)\n",
    "\n",
    "def create_neural_network():\n",
    "    neuralNetwork = [\n",
    "        NeuralLayer(num_connections_entering=2, num_neurons=2, activation_fn=sigmoid),\n",
    "        NeuralLayer(num_connections_entering=2, num_neurons=1, activation_fn=sigmoid),\n",
    "    ]\n",
    "    \n",
    "    return neuralNetwork\n",
    "    \n",
    "XOR = create_neural_network()\n",
    "\n",
    "def print_neural_network(neuralNetwork):\n",
    "    print([\"input 1\", \"input 2\"], end=\"\\n\\n\")\n",
    "    for i, layer in enumerate(neuralNetwork):\n",
    "        print(f\"layer {i}: {layer.bias.shape[1]} neurons\")\n",
    "        print(\"weights\")\n",
    "        print(layer.weights, end=\"\\n\\n\")\n",
    "        print(\"bias\")\n",
    "        print(layer.bias)\n",
    "        \n",
    "print_neural_network(XOR)"
   ]
  },
  {
   "cell_type": "code",
   "execution_count": 432,
   "metadata": {},
   "outputs": [
    {
     "name": "stdout",
     "output_type": "stream",
     "text": [
      "[[0.         0.         0.06184304]\n",
      " [0.         1.         0.93641607]\n",
      " [1.         0.         0.93664103]\n",
      " [1.         1.         0.07179147]]\n"
     ]
    }
   ],
   "source": [
    "def foward_pass(neural_network, inputs, cost_function, print_it=True):\n",
    "    input_to_layer = inputs\n",
    "    steps = [(None, inputs)]\n",
    "    \n",
    "    for _, layer in enumerate(neural_network):\n",
    "        ponderate_sum = input_to_layer @ layer.weights + layer.bias\n",
    "        input_to_layer = activation = layer.activation_fn[0](ponderate_sum)\n",
    "        \n",
    "        steps.append((ponderate_sum, activation))\n",
    "    \n",
    "    if print_it:\n",
    "        prediction = np.hstack((inputs, steps[-1][1]))\n",
    "        print(prediction)\n",
    "    \n",
    "    return steps\n",
    "\n",
    "steps = foward_pass(XOR, input_dataset, mean_square_error)"
   ]
  },
  {
   "cell_type": "code",
   "execution_count": 429,
   "metadata": {},
   "outputs": [
    {
     "name": "stdout",
     "output_type": "stream",
     "text": [
      "delta 1\n",
      "[[ 0.12339529]\n",
      " [-0.12424595]\n",
      " [-0.12448779]\n",
      " [ 0.12703991]]\n",
      "activation_last_layer\n",
      "[[0.68188346 0.50541779]\n",
      " [0.7804498  0.56105249]\n",
      " [0.80234841 0.68364545]\n",
      " [0.87066886 0.729944  ]]\n",
      "gradient_weights\n",
      "[[-5.24850225e-04]\n",
      " [ 7.10469774e-05]]\n",
      "delta 0\n",
      "[[ 0.00295502 -0.0008491 ]\n",
      " [-0.00235032  0.0008423 ]\n",
      " [-0.00217949  0.00074114]\n",
      " [ 0.00157929 -0.00068937]]\n",
      "activation_last_layer\n",
      "[[0 0]\n",
      " [0 1]\n",
      " [1 0]\n",
      " [1 1]]\n",
      "gradient_weights\n",
      "[[-1.50050873e-04  1.29426812e-05]\n",
      " [-1.92756869e-04  3.82327673e-05]]\n",
      "error before = 0.24926088519808423\n",
      "\n",
      "[[0.         0.         0.49363474]\n",
      " [0.         1.         0.5029884 ]\n",
      " [1.         0.         0.5020301 ]\n",
      " [1.         1.         0.5082992 ]]\n",
      "error after = 0.4804647579076466\n",
      "\n",
      "['input 1', 'input 2']\n",
      "\n",
      "layer 0: 2 neurons\n",
      "weights\n",
      "[[0.63874618 0.74889088]\n",
      " [0.50604132 0.22372437]]\n",
      "\n",
      "bias\n",
      "[[0.76243984 0.02166078]]\n",
      "layer 1: 1 neurons\n",
      "weights\n",
      "[[ 0.44159613]\n",
      " [-0.11011081]]\n",
      "\n",
      "bias\n",
      "[[-0.27092775]]\n"
     ]
    }
   ],
   "source": [
    "def backpropagation(neural_network, inputs, outputs, cost_function, show = True, learning_rate = 1):\n",
    "    steps = foward_pass(neural_network, inputs, cost_function, False)\n",
    "    deltas = [None] * len(neural_network)\n",
    "    \n",
    "    next_layer_weights = None\n",
    "    num_layers, num_inputs = len(neural_network), inputs.shape[0]\n",
    "\n",
    "    for i in reversed(range(num_layers)):\n",
    "        ponderate_sum, activation = steps[i + 1]\n",
    "        _, activation_last_layer = steps[i]\n",
    "        \n",
    "        if i == num_layers - 1:\n",
    "            cost_activation = cost_function[1](activation, outputs)\n",
    "        else:\n",
    "            cost_activation = deltas[i + 1] @ next_layer_weights.T / num_inputs\n",
    "            \n",
    "        activation_ponderate = neural_network[i].activation_fn[1](ponderate_sum)\n",
    "        \n",
    "        deltas[i] = delta = cost_activation * activation_ponderate\n",
    "        \n",
    "        gradient_weights = (activation_last_layer.T @ delta) / num_inputs\n",
    "        gradient_bias = np.mean(delta, axis=0, keepdims=True)\n",
    "        \n",
    "        if show: \n",
    "            print(f\"delta {i}\")\n",
    "            print(delta)\n",
    "            \n",
    "            print(\"activation_last_layer\")\n",
    "            print(activation_last_layer)\n",
    "\n",
    "            print(\"gradient_weights\")\n",
    "            print(gradient_weights)\n",
    "        \n",
    "        next_layer_weights = neural_network[i].weights\n",
    "        \n",
    "        neural_network[i].bias -= learning_rate * gradient_bias\n",
    "        neural_network[i].weights -= learning_rate * gradient_weights\n",
    "        \n",
    "    error = cost_function[0](steps[-1][1], outputs)\n",
    "    return error\n",
    "\n",
    "def show_step(neural_network, input_dataset, output_dataset, cost_function, show):\n",
    "    error = backpropagation(neural_network, input_dataset, output_dataset, cost_function, show)\n",
    "    print(f\"error before = {error}\", end=\"\\n\\n\")\n",
    "    if show: \n",
    "        step = foward_pass(neural_network, input_dataset, cost_function, show)\n",
    "        print(f\"error after = {cost_function[0](steps[-1][1], output_dataset)}\", end=\"\\n\\n\")\n",
    "        print_neural_network(neural_network)\n",
    "        \n",
    "show_step(XOR, input_dataset, output_dataset, mean_square_error, True)"
   ]
  },
  {
   "cell_type": "code",
   "execution_count": 434,
   "metadata": {},
   "outputs": [
    {
     "data": {
      "application/vnd.jupyter.widget-view+json": {
       "model_id": "d6637354f0724af6a23b78778024e94a",
       "version_major": 2,
       "version_minor": 0
      },
      "text/plain": [
       "interactive(children=(IntSlider(value=100, description='times', max=200, min=1), Button(description='Run Inter…"
      ]
     },
     "metadata": {},
     "output_type": "display_data"
    }
   ],
   "source": [
    "@interact_manual(times = (1, 200))\n",
    "def trainXOR(times):\n",
    "    for i in range(times):\n",
    "        show_step(XOR, input_dataset, output_dataset, mean_square_error, False)\n"
   ]
  }
 ],
 "metadata": {
  "kernelspec": {
   "display_name": "Python 3",
   "language": "python",
   "name": "python3"
  },
  "language_info": {
   "codemirror_mode": {
    "name": "ipython",
    "version": 3
   },
   "file_extension": ".py",
   "mimetype": "text/x-python",
   "name": "python",
   "nbconvert_exporter": "python",
   "pygments_lexer": "ipython3",
   "version": "3.7.4"
  }
 },
 "nbformat": 4,
 "nbformat_minor": 2
}
